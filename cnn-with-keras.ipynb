{
 "cells": [
  {
   "cell_type": "markdown",
   "metadata": {
    "_cell_guid": "181eb735-c97b-c0f2-b8c1-b102f750f22b"
   },
   "source": [
    "# Constrast Cancer Classification"
   ]
  },
  {
   "cell_type": "code",
   "execution_count": 1,
   "metadata": {
    "_cell_guid": "de20a6d3-24c9-5cc9-5404-30e76357b2ec"
   },
   "outputs": [
    {
     "name": "stderr",
     "output_type": "stream",
     "text": [
      "Using TensorFlow backend.\n"
     ]
    }
   ],
   "source": [
    "import numpy as np # matrix tools\n",
    "import matplotlib.pyplot as plt # for basic plots\n",
    "import seaborn as sns # for nicer plots\n",
    "import pandas as pd\n",
    "from glob import glob\n",
    "import re\n",
    "from skimage.io import imread\n",
    "import os\n",
    "import keras"
   ]
  },
  {
   "cell_type": "code",
   "execution_count": 2,
   "metadata": {
    "_cell_guid": "37d3b716-f0fe-f9f3-6ac0-1669a9c8d51c"
   },
   "outputs": [],
   "source": [
    "%matplotlib inline"
   ]
  },
  {
   "cell_type": "markdown",
   "metadata": {
    "_cell_guid": "61bb3a42-946e-ebeb-e787-9f59164a1683"
   },
   "source": [
    "## Exploratory data analysis"
   ]
  },
  {
   "cell_type": "code",
   "execution_count": 3,
   "metadata": {
    "_cell_guid": "cbc3da93-f439-0d61-fe6e-b395e7e81e81"
   },
   "outputs": [
    {
     "data": {
      "text/html": [
       "<div>\n",
       "<style scoped>\n",
       "    .dataframe tbody tr th:only-of-type {\n",
       "        vertical-align: middle;\n",
       "    }\n",
       "\n",
       "    .dataframe tbody tr th {\n",
       "        vertical-align: top;\n",
       "    }\n",
       "\n",
       "    .dataframe thead th {\n",
       "        text-align: right;\n",
       "    }\n",
       "</style>\n",
       "<table border=\"1\" class=\"dataframe\">\n",
       "  <thead>\n",
       "    <tr style=\"text-align: right;\">\n",
       "      <th></th>\n",
       "      <th>Unnamed: 0</th>\n",
       "      <th>Age</th>\n",
       "      <th>Contrast</th>\n",
       "      <th>ContrastTag</th>\n",
       "      <th>raw_input_path</th>\n",
       "      <th>id</th>\n",
       "      <th>tiff_name</th>\n",
       "      <th>dicom_name</th>\n",
       "    </tr>\n",
       "  </thead>\n",
       "  <tbody>\n",
       "    <tr>\n",
       "      <th>0</th>\n",
       "      <td>0</td>\n",
       "      <td>60</td>\n",
       "      <td>True</td>\n",
       "      <td>NONE</td>\n",
       "      <td>../data/50_50_dicom_cases\\Contrast\\00001 (1).dcm</td>\n",
       "      <td>0</td>\n",
       "      <td>ID_0000_AGE_0060_CONTRAST_1_CT.tif</td>\n",
       "      <td>ID_0000_AGE_0060_CONTRAST_1_CT.dcm</td>\n",
       "    </tr>\n",
       "    <tr>\n",
       "      <th>1</th>\n",
       "      <td>1</td>\n",
       "      <td>69</td>\n",
       "      <td>True</td>\n",
       "      <td>NONE</td>\n",
       "      <td>../data/50_50_dicom_cases\\Contrast\\00001 (10).dcm</td>\n",
       "      <td>1</td>\n",
       "      <td>ID_0001_AGE_0069_CONTRAST_1_CT.tif</td>\n",
       "      <td>ID_0001_AGE_0069_CONTRAST_1_CT.dcm</td>\n",
       "    </tr>\n",
       "    <tr>\n",
       "      <th>2</th>\n",
       "      <td>2</td>\n",
       "      <td>74</td>\n",
       "      <td>True</td>\n",
       "      <td>APPLIED</td>\n",
       "      <td>../data/50_50_dicom_cases\\Contrast\\00001 (11).dcm</td>\n",
       "      <td>2</td>\n",
       "      <td>ID_0002_AGE_0074_CONTRAST_1_CT.tif</td>\n",
       "      <td>ID_0002_AGE_0074_CONTRAST_1_CT.dcm</td>\n",
       "    </tr>\n",
       "    <tr>\n",
       "      <th>3</th>\n",
       "      <td>3</td>\n",
       "      <td>75</td>\n",
       "      <td>True</td>\n",
       "      <td>NONE</td>\n",
       "      <td>../data/50_50_dicom_cases\\Contrast\\00001 (12).dcm</td>\n",
       "      <td>3</td>\n",
       "      <td>ID_0003_AGE_0075_CONTRAST_1_CT.tif</td>\n",
       "      <td>ID_0003_AGE_0075_CONTRAST_1_CT.dcm</td>\n",
       "    </tr>\n",
       "    <tr>\n",
       "      <th>4</th>\n",
       "      <td>4</td>\n",
       "      <td>56</td>\n",
       "      <td>True</td>\n",
       "      <td>NONE</td>\n",
       "      <td>../data/50_50_dicom_cases\\Contrast\\00001 (13).dcm</td>\n",
       "      <td>4</td>\n",
       "      <td>ID_0004_AGE_0056_CONTRAST_1_CT.tif</td>\n",
       "      <td>ID_0004_AGE_0056_CONTRAST_1_CT.dcm</td>\n",
       "    </tr>\n",
       "  </tbody>\n",
       "</table>\n",
       "</div>"
      ],
      "text/plain": [
       "   Unnamed: 0  Age  Contrast ContrastTag  \\\n",
       "0           0   60      True        NONE   \n",
       "1           1   69      True        NONE   \n",
       "2           2   74      True     APPLIED   \n",
       "3           3   75      True        NONE   \n",
       "4           4   56      True        NONE   \n",
       "\n",
       "                                      raw_input_path  id  \\\n",
       "0   ../data/50_50_dicom_cases\\Contrast\\00001 (1).dcm   0   \n",
       "1  ../data/50_50_dicom_cases\\Contrast\\00001 (10).dcm   1   \n",
       "2  ../data/50_50_dicom_cases\\Contrast\\00001 (11).dcm   2   \n",
       "3  ../data/50_50_dicom_cases\\Contrast\\00001 (12).dcm   3   \n",
       "4  ../data/50_50_dicom_cases\\Contrast\\00001 (13).dcm   4   \n",
       "\n",
       "                            tiff_name                          dicom_name  \n",
       "0  ID_0000_AGE_0060_CONTRAST_1_CT.tif  ID_0000_AGE_0060_CONTRAST_1_CT.dcm  \n",
       "1  ID_0001_AGE_0069_CONTRAST_1_CT.tif  ID_0001_AGE_0069_CONTRAST_1_CT.dcm  \n",
       "2  ID_0002_AGE_0074_CONTRAST_1_CT.tif  ID_0002_AGE_0074_CONTRAST_1_CT.dcm  \n",
       "3  ID_0003_AGE_0075_CONTRAST_1_CT.tif  ID_0003_AGE_0075_CONTRAST_1_CT.dcm  \n",
       "4  ID_0004_AGE_0056_CONTRAST_1_CT.tif  ID_0004_AGE_0056_CONTRAST_1_CT.dcm  "
      ]
     },
     "execution_count": 3,
     "metadata": {},
     "output_type": "execute_result"
    }
   ],
   "source": [
    "overview = pd.read_csv('overview.csv')\n",
    "overview.head()"
   ]
  },
  {
   "cell_type": "code",
   "execution_count": 4,
   "metadata": {
    "_cell_guid": "79b78f95-baca-2d76-0327-2313437e274f"
   },
   "outputs": [
    {
     "data": {
      "text/plain": [
       "100"
      ]
     },
     "execution_count": 4,
     "metadata": {},
     "output_type": "execute_result"
    }
   ],
   "source": [
    "len(overview)"
   ]
  },
  {
   "cell_type": "code",
   "execution_count": 5,
   "metadata": {
    "_cell_guid": "839a64dc-5509-5c6a-56b2-c3c47ece0299"
   },
   "outputs": [],
   "source": [
    "overview['Contrast'] = overview['Contrast'].map(lambda x: 1 if x else 0)"
   ]
  },
  {
   "cell_type": "code",
   "execution_count": 6,
   "metadata": {
    "_cell_guid": "6c7a70ca-6bfe-e7b1-612b-83cd477e00ba"
   },
   "outputs": [
    {
     "name": "stderr",
     "output_type": "stream",
     "text": [
      "C:\\Users\\HP\\.julia\\conda\\3\\lib\\site-packages\\scipy\\stats\\stats.py:1713: FutureWarning: Using a non-tuple sequence for multidimensional indexing is deprecated; use `arr[tuple(seq)]` instead of `arr[seq]`. In the future this will be interpreted as an array index, `arr[np.array(seq)]`, which will result either in an error or a different result.\n",
      "  return np.add.reduce(sorted[indexer] * weights, axis=axis) / sumval\n"
     ]
    },
    {
     "data": {
      "text/plain": [
       "<matplotlib.axes._subplots.AxesSubplot at 0x4125783128>"
      ]
     },
     "execution_count": 6,
     "metadata": {},
     "output_type": "execute_result"
    },
    {
     "data": {
      "image/png": "[encoded data removed]",
      "text/plain": [
       "<Figure size 720x360 with 1 Axes>"
      ]
     },
     "metadata": {
      "needs_background": "light"
     },
     "output_type": "display_data"
    }
   ],
   "source": [
    "plt.figure(figsize=(10,5))\n",
    "sns.distplot(overview['Age'])"
   ]
  },
  {
   "cell_type": "code",
   "execution_count": 7,
   "metadata": {
    "_cell_guid": "cab233d2-8302-4092-c292-ebf6f5f54e46"
   },
   "outputs": [
    {
     "name": "stderr",
     "output_type": "stream",
     "text": [
      "C:\\Users\\HP\\.julia\\conda\\3\\lib\\site-packages\\seaborn\\axisgrid.py:230: UserWarning: The `size` paramter has been renamed to `height`; please update your code.\n",
      "  warnings.warn(msg, UserWarning)\n"
     ]
    },
    {
     "data": {
      "image/png": "[encoded data removed]",
      "text/plain": [
       "<Figure size 1152x576 with 2 Axes>"
      ]
     },
     "metadata": {
      "needs_background": "light"
     },
     "output_type": "display_data"
    }
   ],
   "source": [
    "g = sns.FacetGrid(overview, col=\"Contrast\", size=8)\n",
    "g = g.map(sns.distplot, \"Age\")"
   ]
  },
  {
   "cell_type": "code",
   "execution_count": 8,
   "metadata": {
    "_cell_guid": "83830c45-c4cf-509a-ee0c-d9c8075ec616"
   },
   "outputs": [
    {
     "data": {
      "image/png": "[encoded data removed]",
      "text/plain": [
       "<Figure size 482.5x432 with 1 Axes>"
      ]
     },
     "metadata": {
      "needs_background": "light"
     },
     "output_type": "display_data"
    }
   ],
   "source": [
    "g = sns.FacetGrid(overview, hue=\"Contrast\",size=6, legend_out=True)\n",
    "g = g.map(sns.distplot, \"Age\").add_legend()"
   ]
  },
  {
   "cell_type": "markdown",
   "metadata": {
    "_cell_guid": "b3a31c0e-40c8-491e-02fa-27fe5b34aa4e"
   },
   "source": [
    "## Read Image Files "
   ]
  },
  {
   "cell_type": "code",
   "execution_count": 9,
   "metadata": {
    "_cell_guid": "903f9962-56d9-3ab1-ee2d-6f87005a3985"
   },
   "outputs": [
    {
     "data": {
      "text/plain": [
       "['tiff_images\\\\ID_0000_AGE_0060_CONTRAST_1_CT.tif',\n",
       " 'tiff_images\\\\ID_0001_AGE_0069_CONTRAST_1_CT.tif',\n",
       " 'tiff_images\\\\ID_0002_AGE_0074_CONTRAST_1_CT.tif',\n",
       " 'tiff_images\\\\ID_0003_AGE_0075_CONTRAST_1_CT.tif',\n",
       " 'tiff_images\\\\ID_0004_AGE_0056_CONTRAST_1_CT.tif']"
      ]
     },
     "execution_count": 9,
     "metadata": {},
     "output_type": "execute_result"
    }
   ],
   "source": [
    "BASE_IMAGE_PATH = os.path.join(\"tiff_images\")\n",
    "all_images_list = glob(os.path.join(BASE_IMAGE_PATH,\"*.tif\"))\n",
    "all_images_list[:5]"
   ]
  },
  {
   "cell_type": "markdown",
   "metadata": {
    "_cell_guid": "bd300d12-44bf-77d5-ddb9-2b3da504dd2b"
   },
   "source": [
    " - np.expand_dims -> Expand the shape of an array.\n",
    "  - Insert a new axis, corresponding to a given position in the array shape."
   ]
  },
  {
   "cell_type": "code",
   "execution_count": 10,
   "metadata": {
    "_cell_guid": "0297e32f-e635-8e9f-20e4-120cea335001"
   },
   "outputs": [
    {
     "data": {
      "text/plain": [
       "(512, 512)"
      ]
     },
     "execution_count": 10,
     "metadata": {},
     "output_type": "execute_result"
    }
   ],
   "source": [
    "imread(all_images_list[0]).shape"
   ]
  },
  {
   "cell_type": "code",
   "execution_count": 11,
   "metadata": {
    "_cell_guid": "54fb721a-19f5-1320-2c20-1da98b17ea6f"
   },
   "outputs": [
    {
     "data": {
      "text/plain": [
       "array([[ 0,  1,  2,  3,  4,  5,  6,  7,  8],\n",
       "       [ 9, 10, 11, 12, 13, 14, 15, 16, 17],\n",
       "       [18, 19, 20, 21, 22, 23, 24, 25, 26],\n",
       "       [27, 28, 29, 30, 31, 32, 33, 34, 35],\n",
       "       [36, 37, 38, 39, 40, 41, 42, 43, 44],\n",
       "       [45, 46, 47, 48, 49, 50, 51, 52, 53],\n",
       "       [54, 55, 56, 57, 58, 59, 60, 61, 62],\n",
       "       [63, 64, 65, 66, 67, 68, 69, 70, 71],\n",
       "       [72, 73, 74, 75, 76, 77, 78, 79, 80]])"
      ]
     },
     "execution_count": 11,
     "metadata": {},
     "output_type": "execute_result"
    }
   ],
   "source": [
    "np.array(np.arange(81)).reshape(9,9)"
   ]
  },
  {
   "cell_type": "code",
   "execution_count": 12,
   "metadata": {
    "_cell_guid": "77250f23-8ab8-13a9-d972-7d6768c90e5e"
   },
   "outputs": [
    {
     "data": {
      "text/plain": [
       "array([[ 0,  3,  6],\n",
       "       [27, 30, 33],\n",
       "       [54, 57, 60]])"
      ]
     },
     "execution_count": 12,
     "metadata": {},
     "output_type": "execute_result"
    }
   ],
   "source": [
    "np.array(np.arange(81)).reshape(9,9)[::3,::3]"
   ]
  },
  {
   "cell_type": "code",
   "execution_count": 13,
   "metadata": {
    "_cell_guid": "66e16184-234e-6dde-7605-6e1d47e46a73"
   },
   "outputs": [
    {
     "data": {
      "text/plain": [
       "(1, 128, 128)"
      ]
     },
     "execution_count": 13,
     "metadata": {},
     "output_type": "execute_result"
    }
   ],
   "source": [
    "np.expand_dims(imread(all_images_list[0])[::4,::4],0).shape"
   ]
  },
  {
   "cell_type": "code",
   "execution_count": 14,
   "metadata": {
    "_cell_guid": "a964bee8-7247-c4a2-aa70-9444ecf5b635"
   },
   "outputs": [],
   "source": [
    "jimread = lambda x: np.expand_dims(imread(x)[::2,::2],0)"
   ]
  },
  {
   "cell_type": "code",
   "execution_count": 15,
   "metadata": {
    "_cell_guid": "4237cc01-b395-c387-53f3-5a8c5b3bf284"
   },
   "outputs": [
    {
     "data": {
      "text/plain": [
       "<matplotlib.image.AxesImage at 0x4126fb26d8>"
      ]
     },
     "execution_count": 15,
     "metadata": {},
     "output_type": "execute_result"
    },
    {
     "data": {
      "image/png": "[encoded data removed]",
      "text/plain": [
       "<Figure size 432x288 with 1 Axes>"
      ]
     },
     "metadata": {
      "needs_background": "light"
     },
     "output_type": "display_data"
    }
   ],
   "source": [
    "test_image = jimread(all_images_list[0])\n",
    "plt.imshow(test_image[0])"
   ]
  },
  {
   "cell_type": "code",
   "execution_count": 16,
   "metadata": {
    "_cell_guid": "18e5ebe3-61c8-b777-497c-90eef6605d8b"
   },
   "outputs": [],
   "source": [
    "check_contrast = re.compile(r'ID_([\\d]+)_AGE_[\\d]+_CONTRAST_([\\d]+)_CT.tif')\n",
    "label = []\n",
    "id_list = []\n",
    "for image in all_images_list:\n",
    "    id_list.append(check_contrast.findall(image)[0][0])\n",
    "    label.append(check_contrast.findall(image)[0][1])"
   ]
  },
  {
   "cell_type": "code",
   "execution_count": 17,
   "metadata": {
    "_cell_guid": "3313edaa-0603-f4a2-4f69-628dd811d2c1"
   },
   "outputs": [],
   "source": [
    "label_list = pd.DataFrame(label,id_list)"
   ]
  },
  {
   "cell_type": "code",
   "execution_count": 18,
   "metadata": {
    "_cell_guid": "94c034ea-83d3-093f-66d4-7f809ba5dc8b"
   },
   "outputs": [
    {
     "data": {
      "text/html": [
       "<div>\n",
       "<style scoped>\n",
       "    .dataframe tbody tr th:only-of-type {\n",
       "        vertical-align: middle;\n",
       "    }\n",
       "\n",
       "    .dataframe tbody tr th {\n",
       "        vertical-align: top;\n",
       "    }\n",
       "\n",
       "    .dataframe thead th {\n",
       "        text-align: right;\n",
       "    }\n",
       "</style>\n",
       "<table border=\"1\" class=\"dataframe\">\n",
       "  <thead>\n",
       "    <tr style=\"text-align: right;\">\n",
       "      <th></th>\n",
       "      <th>0</th>\n",
       "    </tr>\n",
       "  </thead>\n",
       "  <tbody>\n",
       "    <tr>\n",
       "      <th>0000</th>\n",
       "      <td>1</td>\n",
       "    </tr>\n",
       "    <tr>\n",
       "      <th>0001</th>\n",
       "      <td>1</td>\n",
       "    </tr>\n",
       "    <tr>\n",
       "      <th>0002</th>\n",
       "      <td>1</td>\n",
       "    </tr>\n",
       "    <tr>\n",
       "      <th>0003</th>\n",
       "      <td>1</td>\n",
       "    </tr>\n",
       "    <tr>\n",
       "      <th>0004</th>\n",
       "      <td>1</td>\n",
       "    </tr>\n",
       "  </tbody>\n",
       "</table>\n",
       "</div>"
      ],
      "text/plain": [
       "      0\n",
       "0000  1\n",
       "0001  1\n",
       "0002  1\n",
       "0003  1\n",
       "0004  1"
      ]
     },
     "execution_count": 18,
     "metadata": {},
     "output_type": "execute_result"
    }
   ],
   "source": [
    "label_list.head()"
   ]
  },
  {
   "cell_type": "code",
   "execution_count": 19,
   "metadata": {
    "_cell_guid": "140b1ba7-ed88-ac31-99e4-12737cad5951"
   },
   "outputs": [],
   "source": [
    "images = np.stack([jimread(i) for i in all_images_list],0)"
   ]
  },
  {
   "cell_type": "code",
   "execution_count": 20,
   "metadata": {
    "_cell_guid": "a2d7269a-2d5d-86d8-046a-2cde3f07eb00"
   },
   "outputs": [
    {
     "data": {
      "text/plain": [
       "100"
      ]
     },
     "execution_count": 20,
     "metadata": {},
     "output_type": "execute_result"
    }
   ],
   "source": [
    "len(images)"
   ]
  },
  {
   "cell_type": "markdown",
   "metadata": {
    "_cell_guid": "60395bf3-ff90-d3a2-4166-19a733fb45a8"
   },
   "source": [
    "## Split Data to Train, Test"
   ]
  },
  {
   "cell_type": "code",
   "execution_count": 21,
   "metadata": {
    "_cell_guid": "5c6c3654-33b3-64f6-2a0a-46e35a3e6639"
   },
   "outputs": [],
   "source": [
    "from sklearn.model_selection import train_test_split"
   ]
  },
  {
   "cell_type": "code",
   "execution_count": 22,
   "metadata": {
    "_cell_guid": "94a971d3-dc62-a3bd-dcfc-3394c853e993"
   },
   "outputs": [],
   "source": [
    "X_train, X_test, y_train, y_test = train_test_split(images, label_list, test_size=0.1, random_state=0)"
   ]
  },
  {
   "cell_type": "markdown",
   "metadata": {
    "_cell_guid": "f0d2e404-d32f-b598-bd47-2aa4a6f6e40b"
   },
   "source": [
    "## Reshape image Data "
   ]
  },
  {
   "cell_type": "code",
   "execution_count": 23,
   "metadata": {
    "_cell_guid": "eccb92e8-516c-af36-4cb5-91638104f2e1"
   },
   "outputs": [],
   "source": [
    "n_train, depth, width, height = X_train.shape\n",
    "n_test,_,_,_ = X_test.shape"
   ]
  },
  {
   "cell_type": "code",
   "execution_count": 24,
   "metadata": {
    "_cell_guid": "1c3fa2c3-3503-4587-5927-9c59f1c2f6ca"
   },
   "outputs": [
    {
     "data": {
      "text/plain": [
       "(90, 1, 256, 256)"
      ]
     },
     "execution_count": 24,
     "metadata": {},
     "output_type": "execute_result"
    }
   ],
   "source": [
    "n_train,depth, width, height"
   ]
  },
  {
   "cell_type": "code",
   "execution_count": 25,
   "metadata": {
    "_cell_guid": "057b51b4-a682-a552-1f1f-a0bc71d6826c"
   },
   "outputs": [],
   "source": [
    "input_shape = (width,height,depth)"
   ]
  },
  {
   "cell_type": "code",
   "execution_count": 26,
   "metadata": {
    "_cell_guid": "883a4c62-9d71-b647-cc9f-e10ec6979577"
   },
   "outputs": [
    {
     "data": {
      "text/plain": [
       "(256, 256, 1)"
      ]
     },
     "execution_count": 26,
     "metadata": {},
     "output_type": "execute_result"
    }
   ],
   "source": [
    "input_shape"
   ]
  },
  {
   "cell_type": "code",
   "execution_count": 27,
   "metadata": {
    "_cell_guid": "cc85b31d-f01e-c7de-07f3-7b36326db826"
   },
   "outputs": [
    {
     "data": {
      "text/plain": [
       "1.0"
      ]
     },
     "execution_count": 27,
     "metadata": {},
     "output_type": "execute_result"
    }
   ],
   "source": [
    "input_train = X_train.reshape((n_train, width,height,depth))\n",
    "input_train.shape\n",
    "input_train.astype('float32')\n",
    "input_train = input_train / np.max(input_train)\n",
    "input_train.max()"
   ]
  },
  {
   "cell_type": "code",
   "execution_count": 28,
   "metadata": {
    "_cell_guid": "4e1ddca3-155e-719b-00aa-1c6f5d748e0e"
   },
   "outputs": [],
   "source": [
    "input_test = X_test.reshape(n_test, *input_shape)\n",
    "input_test.astype('float32')\n",
    "input_test = input_test / np.max(input_test)"
   ]
  },
  {
   "cell_type": "code",
   "execution_count": 29,
   "metadata": {
    "_cell_guid": "beb04ced-7fa4-9931-cacc-c06a108c6dde"
   },
   "outputs": [
    {
     "data": {
      "text/plain": [
       "array([0., 1.], dtype=float32)"
      ]
     },
     "execution_count": 29,
     "metadata": {},
     "output_type": "execute_result"
    }
   ],
   "source": [
    "output_train = keras.utils.to_categorical(y_train, 2)\n",
    "output_test = keras.utils.to_categorical(y_test, 2)\n",
    "output_train[5]"
   ]
  },
  {
   "cell_type": "code",
   "execution_count": 30,
   "metadata": {
    "_cell_guid": "93771d31-451c-0111-37f7-825e9b4f402f"
   },
   "outputs": [
    {
     "data": {
      "text/plain": [
       "(90, 256, 256, 1)"
      ]
     },
     "execution_count": 30,
     "metadata": {},
     "output_type": "execute_result"
    }
   ],
   "source": [
    "input_train.shape"
   ]
  },
  {
   "cell_type": "markdown",
   "metadata": {
    "_cell_guid": "61e3ddee-fdfd-3647-4ac4-65c21cb8628a"
   },
   "source": [
    "## Network"
   ]
  },
  {
   "cell_type": "code",
   "execution_count": 31,
   "metadata": {
    "_cell_guid": "3c48ada1-6f0a-8b8e-8aa5-067a00cd6f7d"
   },
   "outputs": [],
   "source": [
    "from keras.models import Sequential\n",
    "from keras.layers import Dense, Flatten\n",
    "from keras.optimizers import Adam\n",
    "from keras.layers import Conv2D, MaxPooling2D"
   ]
  },
  {
   "cell_type": "code",
   "execution_count": 50,
   "metadata": {
    "_cell_guid": "4c4b848f-af6a-8a86-ffd1-d84464b82d67"
   },
   "outputs": [],
   "source": [
    "batch_size = 20\n",
    "epochs = 7"
   ]
  },
  {
   "cell_type": "markdown",
   "metadata": {
    "_cell_guid": "9d71c76b-5757-be9a-4cb8-c4309408f952"
   },
   "source": [
    "## Model 2"
   ]
  },
  {
   "cell_type": "code",
   "execution_count": 51,
   "metadata": {
    "_cell_guid": "2c3081d5-c966-0cca-65cd-a812fb9b78eb"
   },
   "outputs": [],
   "source": [
    "model2 = Sequential()\n",
    "model2.add(Conv2D(50, (5, 5), activation='relu', input_shape=input_shape))\n",
    "model2.add(MaxPooling2D(pool_size=(3, 3))) # 3x3 Maxpooling \n",
    "model2.add(Conv2D(30, (4, 4), activation='relu', input_shape=input_shape))\n",
    "model2.add(MaxPooling2D(pool_size=(2, 2))) # 2x2 Maxpooling \n",
    "model2.add(Flatten()) \n",
    "model2.add(Dense(2, activation='softmax'))"
   ]
  },
  {
   "cell_type": "code",
   "execution_count": 52,
   "metadata": {
    "_cell_guid": "0a67a856-a6ff-9bf5-bddb-40a1eddd31d5"
   },
   "outputs": [
    {
     "name": "stdout",
     "output_type": "stream",
     "text": [
      "_________________________________________________________________\n",
      "Layer (type)                 Output Shape              Param #   \n",
      "=================================================================\n",
      "conv2d_7 (Conv2D)            (None, 252, 252, 50)      1300      \n",
      "_________________________________________________________________\n",
      "max_pooling2d_7 (MaxPooling2 (None, 84, 84, 50)        0         \n",
      "_________________________________________________________________\n",
      "conv2d_8 (Conv2D)            (None, 81, 81, 30)        24030     \n",
      "_________________________________________________________________\n",
      "max_pooling2d_8 (MaxPooling2 (None, 40, 40, 30)        0         \n",
      "_________________________________________________________________\n",
      "flatten_4 (Flatten)          (None, 48000)             0         \n",
      "_________________________________________________________________\n",
      "dense_4 (Dense)              (None, 2)                 96002     \n",
      "=================================================================\n",
      "Total params: 121,332\n",
      "Trainable params: 121,332\n",
      "Non-trainable params: 0\n",
      "_________________________________________________________________\n"
     ]
    }
   ],
   "source": [
    "model2.summary()"
   ]
  },
  {
   "cell_type": "code",
   "execution_count": 53,
   "metadata": {
    "_cell_guid": "90a1467a-2441-504d-b86a-b27b6b9f3840"
   },
   "outputs": [],
   "source": [
    "model2.compile(loss='categorical_crossentropy',\n",
    "              optimizer=Adam(),\n",
    "              metrics=['accuracy'])"
   ]
  },
  {
   "cell_type": "code",
   "execution_count": 54,
   "metadata": {
    "_cell_guid": "5ce12e74-c501-59e5-292c-5c1e4ef288a2"
   },
   "outputs": [
    {
     "name": "stdout",
     "output_type": "stream",
     "text": [
      "Train on 90 samples, validate on 10 samples\n",
      "Epoch 1/7\n",
      "90/90 [==============================] - 14s 154ms/step - loss: 0.7402 - acc: 0.5444 - val_loss: 0.6082 - val_acc: 0.7000\n",
      "Epoch 2/7\n",
      "90/90 [==============================] - 14s 154ms/step - loss: 0.6769 - acc: 0.5333 - val_loss: 0.6591 - val_acc: 0.7000\n",
      "Epoch 3/7\n",
      "90/90 [==============================] - 13s 149ms/step - loss: 0.6453 - acc: 0.5556 - val_loss: 0.6564 - val_acc: 0.7000\n",
      "Epoch 4/7\n",
      "90/90 [==============================] - 13s 149ms/step - loss: 0.5127 - acc: 0.9000 - val_loss: 0.5037 - val_acc: 0.8000\n",
      "Epoch 5/7\n",
      "90/90 [==============================] - 13s 148ms/step - loss: 0.4210 - acc: 0.9000 - val_loss: 0.5058 - val_acc: 0.8000\n",
      "Epoch 6/7\n",
      "90/90 [==============================] - 13s 148ms/step - loss: 0.2744 - acc: 0.9444 - val_loss: 0.4878 - val_acc: 0.8000\n",
      "Epoch 7/7\n",
      "90/90 [==============================] - 13s 148ms/step - loss: 0.1704 - acc: 0.9667 - val_loss: 0.2666 - val_acc: 0.8000\n"
     ]
    }
   ],
   "source": [
    "history = model2.fit(input_train, output_train,\n",
    "                    batch_size=batch_size,\n",
    "                    epochs=epochs,\n",
    "                    verbose=1,\n",
    "                    validation_data=(input_test, output_test))"
   ]
  },
  {
   "cell_type": "code",
   "execution_count": 55,
   "metadata": {
    "_cell_guid": "d686fe4f-9233-b836-1159-d92ca1cd6a2c"
   },
   "outputs": [
    {
     "data": {
      "text/plain": [
       "[0.26657742261886597, 0.800000011920929]"
      ]
     },
     "execution_count": 55,
     "metadata": {},
     "output_type": "execute_result"
    }
   ],
   "source": [
    "score = model2.evaluate(input_test, output_test, verbose=0)\n",
    "score"
   ]
  },
  {
   "cell_type": "code",
   "execution_count": null,
   "metadata": {
    "_cell_guid": "21021a4b-0c91-5904-ee18-b53ada0aa41e"
   },
   "outputs": [],
   "source": []
  },
  {
   "cell_type": "markdown",
   "metadata": {
    "_cell_guid": "efcdd14b-dc2c-fe55-593a-3bce5a9e68e4"
   },
   "source": []
  }
 ],
 "metadata": {
  "_change_revision": 15,
  "_is_fork": false,
  "kernelspec": {
   "display_name": "Python 3",
   "language": "python",
   "name": "python3"
  },
  "language_info": {
   "codemirror_mode": {
    "name": "ipython",
    "version": 3
   },
   "file_extension": ".py",
   "mimetype": "text/x-python",
   "name": "python",
   "nbconvert_exporter": "python",
   "pygments_lexer": "ipython3",
   "version": "3.6.8"
  }
 },
 "nbformat": 4,
 "nbformat_minor": 1
}
